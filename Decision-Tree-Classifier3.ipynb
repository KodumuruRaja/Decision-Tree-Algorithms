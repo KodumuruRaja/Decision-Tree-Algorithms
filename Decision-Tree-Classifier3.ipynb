{
  "nbformat": 4,
  "nbformat_minor": 0,
  "metadata": {
    "colab": {
      "name": "Decision Tree Classifier2.ipynb",
      "provenance": [],
      "collapsed_sections": [],
      "authorship_tag": "ABX9TyMByzsKRBuPBWoRNSPzW6HM",
      "include_colab_link": true
    },
    "kernelspec": {
      "name": "python3",
      "display_name": "Python 3"
    }
  },
  "cells": [
    {
      "cell_type": "markdown",
      "metadata": {
        "id": "view-in-github",
        "colab_type": "text"
      },
      "source": [
        "<a href=\"https://colab.research.google.com/github/KodumuruRaja/Decision-Tree-Algorithms/blob/main/Decision-Tree-Classifier3.ipynb\" target=\"_parent\"><img src=\"https://colab.research.google.com/assets/colab-badge.svg\" alt=\"Open In Colab\"/></a>"
      ]
    },
    {
      "cell_type": "code",
      "metadata": {
        "id": "iMmDce0u87MT"
      },
      "source": [
        "import numpy as nm  \r\n",
        "import matplotlib.pyplot as mtp  \r\n",
        "import pandas as pd  \r\n",
        "  \r\n",
        "#importing datasets  \r\n",
        "data_set= pd.read_csv(\"/content/User_Data.csv\")  \r\n",
        "  \r\n",
        "#Extracting Independent and dependent Variable  \r\n",
        "x= data_set.iloc[:, [2,3]].values  \r\n",
        "y= data_set.iloc[:, 4].values  \r\n",
        "  \r\n",
        "# Splitting the dataset into training and test set.  \r\n",
        "from sklearn.model_selection import train_test_split  \r\n",
        "x_train, x_test, y_train, y_test= train_test_split(x, y, test_size= 0.25, random_state=0)  \r\n",
        "  \r\n",
        "#feature Scaling  \r\n",
        "from sklearn.preprocessing import StandardScaler    \r\n",
        "st_x= StandardScaler()  \r\n",
        "x_train= st_x.fit_transform(x_train)    \r\n",
        "x_test= st_x.transform(x_test)    "
      ],
      "execution_count": null,
      "outputs": []
    },
    {
      "cell_type": "code",
      "metadata": {
        "colab": {
          "base_uri": "https://localhost:8080/"
        },
        "id": "rBhO0urg9O1Y",
        "outputId": "2209769f-7d4a-433d-a6c7-17b302a350b1"
      },
      "source": [
        "#Fitting Decision Tree classifier to the training set  \r\n",
        "from sklearn.tree import DecisionTreeClassifier  \r\n",
        "classifier= DecisionTreeClassifier(criterion='entropy', random_state=0)  \r\n",
        "classifier.fit(x_train, y_train)  "
      ],
      "execution_count": null,
      "outputs": [
        {
          "output_type": "execute_result",
          "data": {
            "text/plain": [
              "DecisionTreeClassifier(ccp_alpha=0.0, class_weight=None, criterion='entropy',\n",
              "                       max_depth=None, max_features=None, max_leaf_nodes=None,\n",
              "                       min_impurity_decrease=0.0, min_impurity_split=None,\n",
              "                       min_samples_leaf=1, min_samples_split=2,\n",
              "                       min_weight_fraction_leaf=0.0, presort='deprecated',\n",
              "                       random_state=0, splitter='best')"
            ]
          },
          "metadata": {
            "tags": []
          },
          "execution_count": 2
        }
      ]
    },
    {
      "cell_type": "code",
      "metadata": {
        "id": "W_SqDWns9V7j"
      },
      "source": [
        "#Predicting the test set result  \r\n",
        "y_pred= classifier.predict(x_test)  "
      ],
      "execution_count": null,
      "outputs": []
    },
    {
      "cell_type": "code",
      "metadata": {
        "id": "_wzuprkz9clF"
      },
      "source": [
        "#Creating the Confusion matrix  \r\n",
        "from sklearn.metrics import confusion_matrix  \r\n",
        "cm= confusion_matrix(y_test, y_pred)  "
      ],
      "execution_count": null,
      "outputs": []
    },
    {
      "cell_type": "code",
      "metadata": {
        "colab": {
          "base_uri": "https://localhost:8080/",
          "height": 349
        },
        "id": "nNSd8TS_9gVt",
        "outputId": "eb1c2b0b-b312-4c73-b50a-25c980e5cbdf"
      },
      "source": [
        "#Visulaizing the trianing set result  \r\n",
        "from matplotlib.colors import ListedColormap  \r\n",
        "x_set, y_set = x_train, y_train  \r\n",
        "x1, x2 = nm.meshgrid(nm.arange(start = x_set[:, 0].min() - 1, stop = x_set[:, 0].max() + 1, step  =0.01),  \r\n",
        "nm.arange(start = x_set[:, 1].min() - 1, stop = x_set[:, 1].max() + 1, step = 0.01))  \r\n",
        "mtp.contourf(x1, x2, classifier.predict(nm.array([x1.ravel(), x2.ravel()]).T).reshape(x1.shape),  \r\n",
        "alpha = 0.75, cmap = ListedColormap(('purple','green' )))  \r\n",
        "mtp.xlim(x1.min(), x1.max())  \r\n",
        "mtp.ylim(x2.min(), x2.max())  \r\n",
        "for i, j in enumerate(nm.unique(y_set)):  \r\n",
        "  mtp.scatter(x_set[y_set == j, 0], x_set[y_set == j, 1],  c = ListedColormap(('purple', 'green'))(i), label = j)  \r\n",
        "mtp.title('Decision Tree Algorithm (Training set)')  \r\n",
        "mtp.xlabel('Age')  \r\n",
        "mtp.ylabel('Estimated Salary')  \r\n",
        "mtp.legend()  \r\n",
        "mtp.show()  "
      ],
      "execution_count": null,
      "outputs": [
        {
          "output_type": "stream",
          "text": [
            "*c* argument looks like a single numeric RGB or RGBA sequence, which should be avoided as value-mapping will have precedence in case its length matches with *x* & *y*.  Please use the *color* keyword-argument or provide a 2-D array with a single row if you intend to specify the same RGB or RGBA value for all points.\n",
            "*c* argument looks like a single numeric RGB or RGBA sequence, which should be avoided as value-mapping will have precedence in case its length matches with *x* & *y*.  Please use the *color* keyword-argument or provide a 2-D array with a single row if you intend to specify the same RGB or RGBA value for all points.\n"
          ],
          "name": "stderr"
        },
        {
          "output_type": "display_data",
          "data": {
            "image/png": "[encoded data removed]",
            "text/plain": [
              "<Figure size 432x288 with 1 Axes>"
            ]
          },
          "metadata": {
            "tags": [],
            "needs_background": "light"
          }
        }
      ]
    },
    {
      "cell_type": "code",
      "metadata": {
        "id": "rOTlG6B09kkh"
      },
      "source": [
        ""
      ],
      "execution_count": null,
      "outputs": []
    }
  ]
}