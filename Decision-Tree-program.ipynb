{
  "nbformat": 4,
  "nbformat_minor": 0,
  "metadata": {
    "colab": {
      "name": "Decision Tree program.ipynb",
      "provenance": [],
      "collapsed_sections": [],
      "authorship_tag": "ABX9TyP5BljGLyMKdnFzil7VVLs8",
      "include_colab_link": true
    },
    "kernelspec": {
      "name": "python3",
      "display_name": "Python 3"
    }
  },
  "cells": [
    {
      "cell_type": "markdown",
      "metadata": {
        "id": "view-in-github",
        "colab_type": "text"
      },
      "source": [
        "<a href=\"https://colab.research.google.com/github/KodumuruRaja/Decision-Tree-Algorithms/blob/main/Decision-Tree-program.ipynb\" target=\"_parent\"><img src=\"https://colab.research.google.com/assets/colab-badge.svg\" alt=\"Open In Colab\"/></a>"
      ]
    },
    {
      "cell_type": "code",
      "metadata": {
        "id": "WfYQoCS0jatf"
      },
      "source": [
        "training_data=[['Green',3,'Mango'],['Yellow',3,'Mango'],['Red',1,'Grape'],['Red',1,'Grape'],['Yellow',3,'Lemon']]"
      ],
      "execution_count": null,
      "outputs": []
    },
    {
      "cell_type": "code",
      "metadata": {
        "id": "JN3w5-oojyKH"
      },
      "source": [
        "# column labels\r\n",
        "header=['color','diameter','label']"
      ],
      "execution_count": null,
      "outputs": []
    },
    {
      "cell_type": "code",
      "metadata": {
        "id": "NawmG3bbj_io"
      },
      "source": [
        "# finding unique values for a column in a data\r\n",
        "def unique(row,col):\r\n",
        "  return set([row[col] for row in rows])"
      ],
      "execution_count": null,
      "outputs": []
    },
    {
      "cell_type": "code",
      "metadata": {
        "id": "5smb10QxkLA5"
      },
      "source": [
        "# it counts the each type of example in data\r\n",
        "def class_counts(rows):\r\n",
        "  counts={} # dictionary of label count\r\n",
        "  for row in rows: # in our dataset format, the label is always the last column\r\n",
        "    label=row[-1]\r\n",
        "    if label not in counts:\r\n",
        "      counts[label]=0\r\n",
        "    counts[label]+=1\r\n",
        "  return counts"
      ],
      "execution_count": null,
      "outputs": []
    },
    {
      "cell_type": "code",
      "metadata": {
        "id": "RgCym5UplFCW"
      },
      "source": [
        "# To test if a value is numeric\r\n",
        "def is_numeric(value):\r\n",
        "  return isinstance(value,int) or isinstance(value,float)"
      ],
      "execution_count": null,
      "outputs": []
    },
    {
      "cell_type": "code",
      "metadata": {
        "id": "1H7me-z-leSp"
      },
      "source": [
        "# Quest is used for partitioning of data\r\n",
        "class Question:\r\n",
        "  def __init__(self,column,value):\r\n",
        "    self.column=column\r\n",
        "    self.value=value\r\n",
        "# match method is used to compare the feature value in an example to the feature value stored in the question\r\n",
        "  def match(self,example):\r\n",
        "    val=example[self.column]\r\n",
        "    if is_numeric(val):\r\n",
        "      return val>=self.value\r\n",
        "    else:\r\n",
        "      return val==self.value\r\n",
        "# It is a helper method to print the question in a readable format\r\n",
        "    def __repr__(self):\r\n",
        "      condition=\"==\"\r\n",
        "      if is_numeric(self.value):\r\n",
        "        condition=\">=\"\r\n",
        "      return \"Is %s %s %s?\" % (header[self.column],condition,str(self.value))\r\n"
      ],
      "execution_count": null,
      "outputs": []
    },
    {
      "cell_type": "code",
      "metadata": {
        "id": "xDzQIS0mnYhg"
      },
      "source": [
        "# It checks each row in the data if it matches the question. If so,add it to 'true_rows',otherwise,add it to 'false_rows'\r\n",
        "def partition(rows,question):\r\n",
        "  true_rows,false_rows=[],[]\r\n",
        "  for row in rows:\r\n",
        "    if question.match(row):\r\n",
        "      true_rows.append(row)\r\n",
        "    else:\r\n",
        "      false_rows.append(row)\r\n",
        "  return true_rows,false_rows"
      ],
      "execution_count": null,
      "outputs": []
    },
    {
      "cell_type": "code",
      "metadata": {
        "id": "IENhHk64oP9M"
      },
      "source": [
        "# calculate gini impurity for list of rows\r\n",
        "def gini(rows):\r\n",
        "  counts=class_counts(rows)\r\n",
        "  impurity=1\r\n",
        "  for lbl in counts:\r\n",
        "    prob_of_lbl=counts[lbl]/float(len(rows))\r\n",
        "    impurity-=prob_of_lbl**2\r\n",
        "  return impurity"
      ],
      "execution_count": null,
      "outputs": []
    },
    {
      "cell_type": "code",
      "metadata": {
        "id": "i1rysvO8oyVX"
      },
      "source": [
        "# It calculates uncertainity \r\n",
        "def info_gain(left,right,current_uncertainity):\r\n",
        "  p=float(len(left))/(len(left)+len(right))\r\n",
        "  return current_uncertainity-p*gini(left)-(1-p)*gini(right)"
      ],
      "execution_count": null,
      "outputs": []
    },
    {
      "cell_type": "code",
      "metadata": {
        "id": "DlripW_ZpRvt"
      },
      "source": [
        "# it is to find the best question to ask by iterating over every feature/value and calculating the information gain\r\n",
        "def find_best_split(rows):\r\n",
        "  best_gain=0\r\n",
        "  best_question=None\r\n",
        "  current_uncertainity=gini(rows)\r\n",
        "  n_features=len(rows[0])-1\r\n",
        "  for col in range(n_features):\r\n",
        "    values=set([row[col] for row in rows])\r\n",
        "    for val in values:\r\n",
        "      question=Question(col,val)\r\n",
        "      true_rows,false_rows=partition(rows,question)\r\n",
        "      if len(true_rows)==0 or len(false_rows)==0:\r\n",
        "        continue\r\n",
        "      gain=info_gain(true_rows,false_rows,current_uncertainity)\r\n",
        "      if gain>=best_gain:\r\n",
        "        best_gain,best_question=gain,question\r\n",
        "  return best_gain,best_question"
      ],
      "execution_count": null,
      "outputs": []
    },
    {
      "cell_type": "code",
      "metadata": {
        "id": "4U1VGv80sv_y"
      },
      "source": [
        "# It holds a dictionary of class i.e-the number of times it appears in the rows from the training data that reach this leaf\r\n",
        "class Leaf:\r\n",
        "  def __init__(self,rows):\r\n",
        "    self.predictions=class_counts(rows)"
      ],
      "execution_count": null,
      "outputs": []
    },
    {
      "cell_type": "code",
      "metadata": {
        "id": "NgVjZpmEtZyI"
      },
      "source": [
        "# In this Decision_Node asks a question\r\n",
        "# This holds a reference to the question, and to the two child nodes\r\n",
        "class Decision_Node:\r\n",
        "  def __init__(self,question,true_branch,false_branch):\r\n",
        "    self.question=question\r\n",
        "    self.true_branch=true_branch\r\n",
        "    self.false_branch=false_branch"
      ],
      "execution_count": null,
      "outputs": []
    },
    {
      "cell_type": "code",
      "metadata": {
        "id": "X11f5AQxuGC5"
      },
      "source": [
        "# Building Trees\r\n",
        "def build_tree(rows):\r\n",
        "  # Partitioning the data,calculating the gain and returning the question\r\n",
        "  gain,question=find_best_split(rows)\r\n",
        "  if gain==0:\r\n",
        "    return Leaf(rows)\r\n",
        "  true_rows,false_rows=partition(rows,question)\r\n",
        "  # Recursively build the true branch\r\n",
        "  true_branch=build_tree(true_rows)\r\n",
        "  # Recursively build the false branch\r\n",
        "  false_branch=build_tree(false_rows)\r\n",
        "  return Decision_Node(question,true_branch,false_branch)"
      ],
      "execution_count": null,
      "outputs": []
    },
    {
      "cell_type": "code",
      "metadata": {
        "id": "1eDbiwzuwVHi"
      },
      "source": [
        "# we are printing the tree\r\n",
        "def print_tree(node,spacing=\"\"):\r\n",
        "  # we've reached a leaf\r\n",
        "  if isinstance(node,Leaf):\r\n",
        "    print(spacing + \"Predict\",node.predictions)\r\n",
        "    return\r\n",
        "    # print the question at this node\r\n",
        "    print(spacing + str(node.question))\r\n",
        "    # call this function recursively on the true branch\r\n",
        "    print(spacing + '--> True:')\r\n",
        "    print_tree(node.true_branch,spacing + \" \")\r\n",
        "    # call this function recursively on the false branch\r\n",
        "    print(spacing + '-->False:')\r\n",
        "    print_tree(node.false_branch,spacing + \" \")"
      ],
      "execution_count": null,
      "outputs": []
    },
    {
      "cell_type": "code",
      "metadata": {
        "id": "KGP2rE3sxhpL"
      },
      "source": [
        "def classify(row,node):\r\n",
        "  # Base case:we've reached a Leaf\r\n",
        "  if isinstance(node,Leaf):\r\n",
        "    return node.predictions\r\n",
        "  # to decide whether to follow the true-branch or the false-branch\r\n",
        "  # compare the feature/value stored in the node, to the example we're considering\r\n",
        "  if node.question.match(row):\r\n",
        "    return classify(row,node.true_branch)\r\n",
        "  else:\r\n",
        "    return classify(row,node.false_branch)"
      ],
      "execution_count": null,
      "outputs": []
    },
    {
      "cell_type": "code",
      "metadata": {
        "id": "rTgH-V14yXVo"
      },
      "source": [
        "def print_leaf(counts):\r\n",
        "  # Print the predictions at a leaf\r\n",
        "  total=sum(counts.values())*1.0\r\n",
        "  probs={}\r\n",
        "  for lbl in counts.keys():\r\n",
        "    probs[lbl]=str(int(counts[lbl]/total*100))+\"%\"\r\n",
        "  return probs"
      ],
      "execution_count": null,
      "outputs": []
    },
    {
      "cell_type": "code",
      "metadata": {
        "id": "AKcqTxKpy6Qe",
        "colab": {
          "base_uri": "https://localhost:8080/"
        },
        "outputId": "0e973df3-ad8e-4b37-9728-48836e99ec8d"
      },
      "source": [
        "if __name__=='__main__':\r\n",
        "  tree=build_tree(training_data)\r\n",
        "  print_tree(tree)\r\n",
        "  #Evaluate\r\n",
        "  testing_data=[['Green',3,'Apple'],['Yellow',4,'Apple'],['Red',2,'Grape'],['Red',1,'Grape'],['Yellow',3,'Lemon']]\r\n",
        "  for row in testing_data:\r\n",
        "    print(\"Actual:%s. Predicted: %s\" %\r\n",
        "          (row[-1],print_leaf(classify(row,tree))))"
      ],
      "execution_count": null,
      "outputs": [
        {
          "output_type": "stream",
          "text": [
            "Actual:Apple. Predicted: {'Mango': '100%'}\n",
            "Actual:Apple. Predicted: {'Mango': '50%', 'Lemon': '50%'}\n",
            "Actual:Grape. Predicted: {'Grape': '100%'}\n",
            "Actual:Grape. Predicted: {'Grape': '100%'}\n",
            "Actual:Lemon. Predicted: {'Mango': '50%', 'Lemon': '50%'}\n"
          ],
          "name": "stdout"
        }
      ]
    },
    {
      "cell_type": "code",
      "metadata": {
        "id": "ygIwrkrkz3e_"
      },
      "source": [
        ""
      ],
      "execution_count": null,
      "outputs": []
    }
  ]
}